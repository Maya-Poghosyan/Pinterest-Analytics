{
 "cells": [
  {
   "cell_type": "markdown",
   "id": "91957541",
   "metadata": {},
   "source": [
    "# Scraping Pinterest with Selenium"
   ]
  },
  {
   "cell_type": "code",
   "execution_count": 1,
   "id": "8986dbb9",
   "metadata": {},
   "outputs": [],
   "source": [
    "import selenium"
   ]
  },
  {
   "cell_type": "code",
   "execution_count": 2,
   "id": "785ecc84",
   "metadata": {},
   "outputs": [],
   "source": [
    "from selenium import webdriver\n",
    "from selenium.webdriver.chrome.service import Service\n",
    "from selenium.webdriver.chrome.options import Options"
   ]
  },
  {
   "cell_type": "code",
   "execution_count": 9,
   "id": "25f0dd7c",
   "metadata": {},
   "outputs": [],
   "source": [
    "# incorporate this into above cell next time\n",
    "from selenium.webdriver.common.by import By"
   ]
  },
  {
   "cell_type": "code",
   "execution_count": 18,
   "id": "f6565088",
   "metadata": {},
   "outputs": [],
   "source": [
    "driver = webdriver.Chrome()"
   ]
  },
  {
   "cell_type": "code",
   "execution_count": 19,
   "id": "94c6a607",
   "metadata": {},
   "outputs": [],
   "source": [
    "# go to Pinterest\n",
    "driver.get(\"https://www.pinterest.com/login/\")"
   ]
  },
  {
   "cell_type": "code",
   "execution_count": 33,
   "id": "04a520c9",
   "metadata": {},
   "outputs": [],
   "source": [
    "# identify email & password input fields and login button\n",
    "email = driver.find_element(by=By.ID, value=\"email\")\n",
    "password = driver.find_element(by=By.ID, value=\"password\")\n",
    "login_button = driver.find_element(by=By.TAG_NAME, value = \"button\")"
   ]
  },
  {
   "cell_type": "code",
   "execution_count": 44,
   "id": "bb89f60e",
   "metadata": {},
   "outputs": [],
   "source": [
    "# enter email, password, log in\n",
    "email.send_keys(\"maya.t.poghosyan@vanderbilt.edu\")\n",
    "password.send_keys(\"Kapishon8\")\n",
    "login_button.click()"
   ]
  },
  {
   "cell_type": "markdown",
   "id": "662c6066",
   "metadata": {},
   "source": [
    "Logged in, now on Pinterest home page"
   ]
  },
  {
   "cell_type": "code",
   "execution_count": 45,
   "id": "6180118a",
   "metadata": {
    "scrolled": false
   },
   "outputs": [],
   "source": [
    "driver.implicitly_wait(2)"
   ]
  },
  {
   "cell_type": "code",
   "execution_count": 52,
   "id": "b7c80778",
   "metadata": {},
   "outputs": [],
   "source": [
    "links = driver.find_elements(by=By.TAG_NAME, value = \"a\")"
   ]
  },
  {
   "cell_type": "code",
   "execution_count": 65,
   "id": "818bdc51",
   "metadata": {},
   "outputs": [],
   "source": [
    "link_outs = []\n",
    "for link in links[5:]:\n",
    "    link_outs.append(link.get_attribute(\"href\"))"
   ]
  },
  {
   "cell_type": "code",
   "execution_count": null,
   "id": "b5ff0f77",
   "metadata": {
    "scrolled": true
   },
   "outputs": [],
   "source": [
    "example = link_outs[7]\n",
    "driver.get(example)"
   ]
  },
  {
   "cell_type": "code",
   "execution_count": 70,
   "id": "124c6e70",
   "metadata": {},
   "outputs": [
    {
     "name": "stdout",
     "output_type": "stream",
     "text": [
      "white/pink yarn flower bouquet,tulip,knitted flowers,crochet bouquet,ramo crochet,knitted flower,crochet,gifts for her,Mother's Day Gift\n"
     ]
    }
   ],
   "source": [
    "header = driver.find_element(by=By.TAG_NAME, value=\"h2\")\n",
    "print(header.text)"
   ]
  }
 ],
 "metadata": {
  "kernelspec": {
   "display_name": "Python 3 (ipykernel)",
   "language": "python",
   "name": "python3"
  },
  "language_info": {
   "codemirror_mode": {
    "name": "ipython",
    "version": 3
   },
   "file_extension": ".py",
   "mimetype": "text/x-python",
   "name": "python",
   "nbconvert_exporter": "python",
   "pygments_lexer": "ipython3",
   "version": "3.9.13"
  }
 },
 "nbformat": 4,
 "nbformat_minor": 5
}
